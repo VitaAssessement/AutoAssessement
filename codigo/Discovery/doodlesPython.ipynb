{
 "cells": [
  {
   "cell_type": "code",
   "execution_count": 2,
   "metadata": {},
   "outputs": [
    {
     "data": {
      "image/png": "[encoded data removed]",
      "text/plain": [
       "<Figure size 432x288 with 1 Axes>"
      ]
     },
     "metadata": {},
     "output_type": "display_data"
    }
   ],
   "source": [
    "import matplotlib.pyplot as plt\n",
    "import networkx as nx\n",
    "\n",
    "G = nx.path_graph(5)\n",
    "attrs = {0: {'attr1': 20, 'attr2': 'nothing'}, 1: {'attr2': 3}, 2: {'attr1': 42}, 3: {'attr3': 'hello'}, 4: {'attr1': 54, 'attr3': '33'}}\n",
    "nx.set_node_attributes(G, attrs)\n",
    "\n",
    "fig, ax = plt.subplots()\n",
    "pos = nx.spring_layout(G)\n",
    "nodes = nx.draw_networkx_nodes(G, pos=pos, ax=ax)\n",
    "nx.draw_networkx_edges(G, pos=pos, ax=ax)\n",
    "\n",
    "annot = ax.annotate(\"\", xy=(0,0), xytext=(20,20),textcoords=\"offset points\",\n",
    "                    bbox=dict(boxstyle=\"round\", fc=\"w\"),\n",
    "                    arrowprops=dict(arrowstyle=\"->\"))\n",
    "annot.set_visible(False)\n",
    "\n",
    "def update_annot(ind):\n",
    "    node = ind[\"ind\"][0]\n",
    "    xy = pos[node]\n",
    "    annot.xy = xy\n",
    "    node_attr = {'node': node}\n",
    "    node_attr.update(G.nodes[node])\n",
    "    text = '\\n'.join(f'{k}: {v}' for k, v in node_attr.items())\n",
    "    annot.set_text(text)\n",
    "\n",
    "def hover(event):\n",
    "    vis = annot.get_visible()\n",
    "    if event.inaxes == ax:\n",
    "        cont, ind = nodes.contains(event)\n",
    "        if cont:\n",
    "            update_annot(ind)\n",
    "            annot.set_visible(True)\n",
    "            fig.canvas.draw_idle()\n",
    "        else:\n",
    "            if vis:\n",
    "                annot.set_visible(False)\n",
    "                fig.canvas.draw_idle()\n",
    "\n",
    "fig.canvas.mpl_connect(\"motion_notify_event\", hover)\n",
    "\n",
    "plt.show()"
   ]
  },
  {
   "cell_type": "code",
   "execution_count": 1,
   "metadata": {},
   "outputs": [],
   "source": [
    "import networkx as nx\n",
    "from bokeh.plotting import figure, curdoc, from_networkx\n",
    "from bokeh.models import HoverTool\n",
    "from bokeh.io import output_notebook, show, save\n",
    "\n",
    "g = nx.Graph()\n",
    "g.add_nodes_from([(4,{'sheet':1}),\n",
    "(5,{\"sheet\":2}),\n",
    "(6,{\"sheet\":3}),\n",
    "(7,{\"sheet\":4})])\n",
    "\n",
    "g.add_edges_from([(4,5,{'weight':4, 'delay':1}),\n",
    "(5,6,{'weight':1, 'delay':1}),\n",
    "(4,6,{'weight':2, 'delay':1}),\n",
    "(6,7,{'weight':3, 'delay':1})])\n",
    "\n",
    "\n",
    "\n",
    "graph_renderer = from_networkx(g,nx.spring_layout(g))\n",
    "TOOLTIPS=[(\"index\", \"@sheet\")]\n",
    "plot = figure(tooltips = TOOLTIPS,x_range=(1,4), y_range=(0,3),\n",
    "tools=\"lasso_select,pan,wheel_zoom\")\n",
    "\n",
    "hover_edges = HoverTool(\n",
    "tooltips=[('weight','@weight'),('delay','@delay')],\n",
    "renderers=[graph_renderer.edge_renderer], line_policy=\"interp\"\n",
    ")\n",
    "\n",
    "plot.renderers.append(graph_renderer)\n",
    "plot.add_tools(hover_edges)\n",
    "show(plot)"
   ]
  },
  {
   "cell_type": "code",
   "execution_count": 59,
   "metadata": {},
   "outputs": [
    {
     "data": {
      "image/png": "[encoded data removed]",
      "text/plain": [
       "<Figure size 432x288 with 14 Axes>"
      ]
     },
     "metadata": {
      "needs_background": "light"
     },
     "output_type": "display_data"
    }
   ],
   "source": [
    "import matplotlib.pyplot as plt\n",
    "import networkx as nx\n",
    "import PIL\n",
    "\n",
    "# Image URLs for graph nodes\n",
    "icons = {\n",
    "    \"router\": \"D:/User/Desktop/vita/icons/router.png\",\n",
    "    \"switch\": \"D:/User/Desktop/vita/icons/switch.png\",\n",
    "    \"PC\": \"D:/User/Desktop/vita/icons/host.png\",\n",
    "}\n",
    "\n",
    "# Load images\n",
    "images = {k: PIL.Image.open(fname) for k, fname in icons.items()}\n",
    "\n",
    "# Generate the computer network graph\n",
    "G = nx.Graph()\n",
    "\n",
    "G.add_node(\"router\", image=images[\"router\"])\n",
    "for i in range(1, 4):\n",
    "    G.add_node(f\"switch_{i}\", image=images[\"switch\"])\n",
    "    for j in range(1, 4):\n",
    "        G.add_node(\"PC_\" + str(i) + \"_\" + str(j), image=images[\"PC\"])\n",
    "\n",
    "G.add_edge(\"router\", \"switch_1\")\n",
    "G.add_edge(\"router\", \"switch_2\")\n",
    "G.add_edge(\"router\", \"switch_3\")\n",
    "for u in range(1, 4):\n",
    "    for v in range(1, 4):\n",
    "        G.add_edge(\"switch_\" + str(u), \"PC_\" + str(u) + \"_\" + str(v))\n",
    "\n",
    "# Get a reproducible layout and create figure\n",
    "pos = nx.spring_layout(G, seed=1734289230)\n",
    "fig, ax = plt.subplots()\n",
    "\n",
    "# Note: the min_source/target_margin kwargs only work with FancyArrowPatch objects.\n",
    "# Force the use of FancyArrowPatch for edge drawing by setting `arrows=True`,\n",
    "# but suppress arrowheads with `arrowstyle=\"-\"`\n",
    "nx.draw_networkx_edges(\n",
    "    G,\n",
    "    pos=pos,\n",
    "    ax=ax,\n",
    "    arrows=True,\n",
    "    arrowstyle=\"-\",\n",
    "    min_source_margin=15,\n",
    "    min_target_margin=15,\n",
    ")\n",
    "\n",
    "# Transform from data coordinates (scaled between xlim and ylim) to display coordinates\n",
    "tr_figure = ax.transData.transform\n",
    "# Transform from display to figure coordinates\n",
    "tr_axes = fig.transFigure.inverted().transform\n",
    "\n",
    "# Select the size of the image (relative to the X axis)\n",
    "icon_size = (ax.get_xlim()[1] - ax.get_xlim()[0]) * 0.025\n",
    "icon_center = icon_size / 2.0\n",
    "\n",
    "# Add the respective image to each node\n",
    "for n in G.nodes:\n",
    "    xf, yf = tr_figure(pos[n])\n",
    "    xa, ya = tr_axes((xf, yf))\n",
    "    # get overlapped axes and plot icon\n",
    "    a = plt.axes([xa - icon_center, ya - icon_center, icon_size, icon_size])\n",
    "    a.imshow(G.nodes[n][\"image\"])\n",
    "    a.axis(\"off\")\n",
    "plt.show()"
   ]
  }
 ],
 "metadata": {
  "kernelspec": {
   "display_name": "Python 3.10.0 64-bit",
   "language": "python",
   "name": "python3"
  },
  "language_info": {
   "codemirror_mode": {
    "name": "ipython",
    "version": 3
   },
   "file_extension": ".py",
   "mimetype": "text/x-python",
   "name": "python",
   "nbconvert_exporter": "python",
   "pygments_lexer": "ipython3",
   "version": "3.10.0 (tags/v3.10.0:b494f59, Oct  4 2021, 19:00:18) [MSC v.1929 64 bit (AMD64)]"
  },
  "orig_nbformat": 4,
  "vscode": {
   "interpreter": {
    "hash": "f2c372e89d7a2a116d8a0a9081fd3550958e75836fcf570714f29caee5840d0c"
   }
  }
 },
 "nbformat": 4,
 "nbformat_minor": 2
}
